{
  "nbformat": 4,
  "nbformat_minor": 0,
  "metadata": {
    "colab": {
      "provenance": []
    },
    "kernelspec": {
      "name": "python3",
      "display_name": "Python 3"
    },
    "language_info": {
      "name": "python"
    }
  },
  "cells": [
    {
      "cell_type": "code",
      "execution_count": null,
      "metadata": {
        "id": "RzFbFcakp5YA"
      },
      "outputs": [],
      "source": [
        "# creamos una clase llamada animal, después creamos 3 definiciones\n",
        "class Animal():\n",
        "  def __init__(self):   #inicializar clases\n",
        "    print(\"Animal class creada\")\n",
        "\n",
        "  def guess_who(self):\n",
        "    print(\"Soy un animalito\")\n",
        "\n",
        "  def sleep(self):\n",
        "    print(\"Estoy durmiendo\")"
      ]
    },
    {
      "cell_type": "code",
      "source": [
        "#Asignamos a unna variable la clase animal\n",
        "my_animal = Animal() #cursores"
      ],
      "metadata": {
        "colab": {
          "base_uri": "https://localhost:8080/"
        },
        "id": "lWe9jm7brW2c",
        "outputId": "1d131acc-1528-4904-8015-f31a0be08413"
      },
      "execution_count": null,
      "outputs": [
        {
          "output_type": "stream",
          "name": "stdout",
          "text": [
            "Animal class creada\n"
          ]
        }
      ]
    },
    {
      "cell_type": "code",
      "source": [
        "my_animal.sleep() #ingresar a la función \"sleep\" a la clase"
      ],
      "metadata": {
        "colab": {
          "base_uri": "https://localhost:8080/"
        },
        "id": "uKPzgLWLrji1",
        "outputId": "ac203eb3-dc0a-4287-aedf-c6805d28e241"
      },
      "execution_count": null,
      "outputs": [
        {
          "output_type": "stream",
          "name": "stdout",
          "text": [
            "Estoy durmiendo\n"
          ]
        }
      ]
    },
    {
      "cell_type": "code",
      "source": [
        "#clase heredada herencia\n",
        "class Cat(Animal): # esta nueva clase se obtiene a partir de la clase maestra, subordinando a esta\n",
        "  def __init__(self): # inicializar funciones dentro de la clase cat, inicializa de la clase maestra dentro de la subordinada\n",
        "    Animal. __init__(self)\n",
        "    print(\"Cat class creada\")\n",
        "\n",
        "  def guess_who(self):\n",
        "    print(\"soy un gatito\")\n",
        "\n",
        "  def meow (self):\n",
        "    print(\"Meow\")\n"
      ],
      "metadata": {
        "id": "hNjCzUCwty92"
      },
      "execution_count": null,
      "outputs": []
    },
    {
      "cell_type": "code",
      "source": [
        "\n",
        "my_cat = Cat()"
      ],
      "metadata": {
        "colab": {
          "base_uri": "https://localhost:8080/"
        },
        "id": "IAkku9_9vyqc",
        "outputId": "c7a3b89a-8801-4967-fd54-3b5da31fd86f"
      },
      "execution_count": null,
      "outputs": [
        {
          "output_type": "stream",
          "name": "stdout",
          "text": [
            "Animal class creada\n",
            "Cat class creada\n"
          ]
        }
      ]
    },
    {
      "cell_type": "code",
      "source": [
        "my_cat.guess_who()"
      ],
      "metadata": {
        "colab": {
          "base_uri": "https://localhost:8080/"
        },
        "id": "9W8vTvgZwqKU",
        "outputId": "8e58a846-1031-479a-9b49-c362316d1eb7"
      },
      "execution_count": null,
      "outputs": [
        {
          "output_type": "stream",
          "name": "stdout",
          "text": [
            "soy un gatito\n"
          ]
        }
      ]
    },
    {
      "cell_type": "code",
      "source": [
        "my_cat.meow()"
      ],
      "metadata": {
        "colab": {
          "base_uri": "https://localhost:8080/"
        },
        "id": "K9Tz0IE9wu3P",
        "outputId": "92a04b12-291f-4681-fb28-0e2839b5aa2b"
      },
      "execution_count": null,
      "outputs": [
        {
          "output_type": "stream",
          "name": "stdout",
          "text": [
            "Meow\n"
          ]
        }
      ]
    },
    {
      "cell_type": "markdown",
      "source": [
        "POLYMORPHISMS"
      ],
      "metadata": {
        "id": "6eUr6LzsyIA0"
      }
    },
    {
      "cell_type": "code",
      "source": [
        "# creamos 2 clases y dos definiciones  para que cuando el usuario las use, ingrese los valores requeridos para cada definición y le regrese un output.\n",
        "class Doggy():\n",
        "  def __init__ (self,name):\n",
        "    self.name = name\n",
        "\n",
        "  def speak(self):\n",
        "    return self.name + \"dice Woof\""
      ],
      "metadata": {
        "id": "uKcaIZixxE9c"
      },
      "execution_count": null,
      "outputs": []
    },
    {
      "cell_type": "code",
      "source": [
        "class Catty():\n",
        "  def __init__ (self,name):\n",
        "    self.name = name\n",
        "\n",
        "  def speak(self):\n",
        "    return self.name + \"dice MEOW\""
      ],
      "metadata": {
        "id": "8rFBK3Zdyghu"
      },
      "execution_count": null,
      "outputs": []
    },
    {
      "cell_type": "code",
      "source": [
        "my_dog = Doggy(\"Buzz \")\n",
        "my_cat = Catty(\"Tom \")"
      ],
      "metadata": {
        "id": "F2CNtOC1yokL"
      },
      "execution_count": null,
      "outputs": []
    },
    {
      "cell_type": "code",
      "source": [
        "my_dog.speak()"
      ],
      "metadata": {
        "colab": {
          "base_uri": "https://localhost:8080/",
          "height": 35
        },
        "id": "RxEkAwlnzRyU",
        "outputId": "93cf5b69-c5c3-49c2-a68e-e8cffe8d0c9e"
      },
      "execution_count": null,
      "outputs": [
        {
          "output_type": "execute_result",
          "data": {
            "text/plain": [
              "'Buzz dice Woof'"
            ],
            "application/vnd.google.colaboratory.intrinsic+json": {
              "type": "string"
            }
          },
          "metadata": {},
          "execution_count": 19
        }
      ]
    },
    {
      "cell_type": "code",
      "source": [
        "my_cat.speak()"
      ],
      "metadata": {
        "colab": {
          "base_uri": "https://localhost:8080/",
          "height": 35
        },
        "id": "iVr8RYmgznYx",
        "outputId": "20deb53e-98d3-44f9-d691-72e9fe0b140a"
      },
      "execution_count": null,
      "outputs": [
        {
          "output_type": "execute_result",
          "data": {
            "text/plain": [
              "'Tom dice MEOW'"
            ],
            "application/vnd.google.colaboratory.intrinsic+json": {
              "type": "string"
            }
          },
          "metadata": {},
          "execution_count": 20
        }
      ]
    },
    {
      "cell_type": "code",
      "source": [],
      "metadata": {
        "id": "vU151cVizwjJ"
      },
      "execution_count": null,
      "outputs": []
    }
  ]
}