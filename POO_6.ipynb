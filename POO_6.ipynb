{
  "nbformat": 4,
  "nbformat_minor": 0,
  "metadata": {
    "colab": {
      "provenance": []
    },
    "kernelspec": {
      "name": "python3",
      "display_name": "Python 3"
    },
    "language_info": {
      "name": "python"
    }
  },
  "cells": [
    {
      "cell_type": "markdown",
      "source": [
        "Crea definiciones que calculen el área de un círculo y el área de un rectángulo, respectivamente."
      ],
      "metadata": {
        "id": "mkzGs5zqo0PZ"
      }
    },
    {
      "cell_type": "code",
      "execution_count": null,
      "metadata": {
        "id": "VFIln5Hyou2a"
      },
      "outputs": [],
      "source": [
        "#Creamos una definición que calcule el área de un círculo\n",
        "def areacirculo(r):\n",
        "  import numpy as np\n",
        "  pi = np.pi\n",
        "  a = pi * (r**2)\n",
        "  return a"
      ]
    },
    {
      "cell_type": "code",
      "source": [
        "areacirculo(2)"
      ],
      "metadata": {
        "colab": {
          "base_uri": "https://localhost:8080/"
        },
        "id": "9WSNFLVRpOZa",
        "outputId": "19eacd92-91a4-4e7d-9f66-2d46d840025b"
      },
      "execution_count": null,
      "outputs": [
        {
          "output_type": "execute_result",
          "data": {
            "text/plain": [
              "12.566370614359172"
            ]
          },
          "metadata": {},
          "execution_count": 4
        }
      ]
    },
    {
      "cell_type": "code",
      "source": [
        "#Creamos una definición que calcule el área de un rectángulo\n",
        "def arearectangulo(b,h) :\n",
        "  a = b * h\n",
        "  return a"
      ],
      "metadata": {
        "id": "Zyk1-cfdpULu"
      },
      "execution_count": null,
      "outputs": []
    },
    {
      "cell_type": "code",
      "source": [
        "arearectangulo(10,20)"
      ],
      "metadata": {
        "colab": {
          "base_uri": "https://localhost:8080/"
        },
        "id": "59NdDl_1qFEm",
        "outputId": "e7a266cb-b80e-4d54-b8d9-54e0cb3983e6"
      },
      "execution_count": null,
      "outputs": [
        {
          "output_type": "execute_result",
          "data": {
            "text/plain": [
              "200"
            ]
          },
          "metadata": {},
          "execution_count": 6
        }
      ]
    },
    {
      "cell_type": "code",
      "source": [
        "#creamos una definición para sacar la raíx cuadrada de un número\n",
        "def raizcuadrada(num):\n",
        "  numraiz = num**(0.5)\n",
        "  return numraiz"
      ],
      "metadata": {
        "id": "12QY8cvEqIes"
      },
      "execution_count": null,
      "outputs": []
    },
    {
      "cell_type": "code",
      "source": [
        "#importamos numpy y creamos una lista de números aleatorios del 0 al 100 de tamaño 20\n",
        "import numpy as np\n",
        "lista1 = np.random.randint(0, 101,20)"
      ],
      "metadata": {
        "id": "JqUR2oS_q4JZ"
      },
      "execution_count": null,
      "outputs": []
    },
    {
      "cell_type": "code",
      "source": [
        "lista1"
      ],
      "metadata": {
        "colab": {
          "base_uri": "https://localhost:8080/"
        },
        "id": "cjLIEnyLsWtq",
        "outputId": "d4392045-b5c2-46ed-8b30-73a471206739"
      },
      "execution_count": null,
      "outputs": [
        {
          "output_type": "execute_result",
          "data": {
            "text/plain": [
              "array([37, 24, 66, 99, 62, 76, 79, 66,  9, 38,  6, 32, 56, 13, 40,  6, 52,\n",
              "       53, 88, 56])"
            ]
          },
          "metadata": {},
          "execution_count": 34
        }
      ]
    },
    {
      "cell_type": "code",
      "source": [
        "#  Usamos un for para añadir a una lista vacía las raíces cuadradas de cada uno de los elementos de la lista 1\n",
        "L = []\n",
        "\n",
        "for i in lista1:\n",
        "  a = raizcuadrada(i)\n",
        "  L.append(a)"
      ],
      "metadata": {
        "id": "L-9JBZ7TsbBb"
      },
      "execution_count": null,
      "outputs": []
    },
    {
      "cell_type": "code",
      "source": [
        "L"
      ],
      "metadata": {
        "colab": {
          "base_uri": "https://localhost:8080/"
        },
        "id": "-eTgQaGFtLWK",
        "outputId": "38d21ec9-ee8e-4c14-ef08-8894c0a97468"
      },
      "execution_count": null,
      "outputs": [
        {
          "output_type": "execute_result",
          "data": {
            "text/plain": [
              "[6.082762530298219,\n",
              " 4.898979485566356,\n",
              " 8.12403840463596,\n",
              " 9.9498743710662,\n",
              " 7.874007874011811,\n",
              " 8.717797887081348,\n",
              " 8.888194417315589,\n",
              " 8.12403840463596,\n",
              " 3.0,\n",
              " 6.164414002968976,\n",
              " 2.449489742783178,\n",
              " 5.656854249492381,\n",
              " 7.483314773547883,\n",
              " 3.605551275463989,\n",
              " 6.324555320336759,\n",
              " 2.449489742783178,\n",
              " 7.211102550927978,\n",
              " 7.280109889280518,\n",
              " 9.38083151964686,\n",
              " 7.483314773547883]"
            ]
          },
          "metadata": {},
          "execution_count": 36
        }
      ]
    },
    {
      "cell_type": "code",
      "source": [
        "# creamos una lista vacía y usamos un for para añadir cada valor dentro de lista 1 que sea número entero o que su raíz cuadrada sea un número entero a L2\n",
        "L2 = []\n",
        "for i in lista1:\n",
        "  if i ==int(i):\n",
        "    L2.append(i)\n",
        "  else:\n",
        "    a2 = raizcuadrada(i)\n",
        "    if a2 == int(a2):\n",
        "      L2.append(i)\n",
        "\n",
        "\n"
      ],
      "metadata": {
        "id": "KXZvdWUvumKz"
      },
      "execution_count": null,
      "outputs": []
    },
    {
      "cell_type": "code",
      "source": [
        "L2"
      ],
      "metadata": {
        "colab": {
          "base_uri": "https://localhost:8080/"
        },
        "id": "pA7YnzAOxJcW",
        "outputId": "26353df5-6f4e-4f8a-d22d-ac29772883ee"
      },
      "execution_count": null,
      "outputs": [
        {
          "output_type": "execute_result",
          "data": {
            "text/plain": [
              "[37, 24, 66, 99, 62, 76, 79, 66, 9, 38, 6, 32, 56, 13, 40, 6, 52, 53, 88, 56]"
            ]
          },
          "metadata": {},
          "execution_count": 45
        }
      ]
    },
    {
      "cell_type": "code",
      "source": [],
      "metadata": {
        "id": "TloTDRDoybpk"
      },
      "execution_count": null,
      "outputs": []
    }
  ]
}