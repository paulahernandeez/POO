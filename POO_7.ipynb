{
  "nbformat": 4,
  "nbformat_minor": 0,
  "metadata": {
    "colab": {
      "provenance": []
    },
    "kernelspec": {
      "name": "python3",
      "display_name": "Python 3"
    },
    "language_info": {
      "name": "python"
    }
  },
  "cells": [
    {
      "cell_type": "markdown",
      "source": [
        "# Condicionales: if.. elif...else"
      ],
      "metadata": {
        "id": "LK7HjIefdL1U"
      }
    },
    {
      "cell_type": "code",
      "execution_count": null,
      "metadata": {
        "colab": {
          "base_uri": "https://localhost:8080/"
        },
        "id": "YMv2cQaBcOhc",
        "outputId": "c5a5c873-2ca1-48ad-92b0-eec41457f1a0"
      },
      "outputs": [
        {
          "output_type": "stream",
          "name": "stdout",
          "text": [
            "La letra es A\n"
          ]
        }
      ],
      "source": [
        "# Con un if, elif y else, vimos si la variable letra era A, B o C\n",
        "letra =\"A\"\n",
        "\n",
        "if letra == \"B\":\n",
        "  print(\"La letra es B\")\n",
        "elif letra == \"c\":\n",
        "  print(\"La letra es B\")\n",
        "elif letra == \"A\":\n",
        "  print(\"La letra es A\")\n",
        "else:\n",
        "  print(\"La letra no es A, B o C\")\n"
      ]
    },
    {
      "cell_type": "code",
      "source": [
        "#Hicimos una variable que pueda recibir input del usuario\n",
        "numero = int(input(\"Escribe un número: \"))"
      ],
      "metadata": {
        "colab": {
          "base_uri": "https://localhost:8080/"
        },
        "id": "Klq7GSOgcYnx",
        "outputId": "c71d86e4-9052-47e9-ba89-c4f6e29b3752"
      },
      "execution_count": null,
      "outputs": [
        {
          "name": "stdout",
          "output_type": "stream",
          "text": [
            "Escribe un número: 4\n"
          ]
        }
      ]
    },
    {
      "cell_type": "code",
      "source": [
        "#Usamos un if para ver si la variable número era múltiplo de 2, de 4, de ambos o ninguno.\n",
        "\n",
        "if numero %2 == 0 and numero % 4 !=0:\n",
        "  print(f\"{numero} es múltiplo de 2\")\n",
        "elif numero % 4 == 0:\n",
        "  print(f\"{numero} es múltiplo de 4 y de 2\")\n",
        "else:\n",
        "  print(f\"{numero} no es múltiplo de 2\")"
      ],
      "metadata": {
        "colab": {
          "base_uri": "https://localhost:8080/"
        },
        "id": "IbIdBQx2ekms",
        "outputId": "be2fd472-dea7-4f23-de55-71a983fb47d9"
      },
      "execution_count": null,
      "outputs": [
        {
          "output_type": "stream",
          "name": "stdout",
          "text": [
            "4 es múltiplo de 4 y de 2\n"
          ]
        }
      ]
    },
    {
      "cell_type": "code",
      "source": [
        "# creamos una variable en donde el usuario puede asignar el valor, con un if vimos cuántas letras tiene\n",
        "nombre = input(\"Escibribe tu nombre: \")\n",
        "if len(nombre) == 5:\n",
        "  print(f\"{nombre} tiene 5 letras\")\n",
        "elif len(nombre) == 6:\n",
        "  print(f\"{nombre} tiene 6 letras\")\n",
        "else:\n",
        "  print(f\"{nombre} tiene más de 6 letras o menos de 5 letras\")"
      ],
      "metadata": {
        "colab": {
          "base_uri": "https://localhost:8080/"
        },
        "id": "KWmd-4Qgf6z_",
        "outputId": "23400d3a-51a3-489a-ea95-5687f66ef384"
      },
      "execution_count": null,
      "outputs": [
        {
          "output_type": "stream",
          "name": "stdout",
          "text": [
            "Escibribe tu nombre: cesar\n",
            "cesar tiene 5 letras\n"
          ]
        }
      ]
    },
    {
      "cell_type": "markdown",
      "source": [
        "## CLASES Y POLIMORFISMOS"
      ],
      "metadata": {
        "id": "cvTtiHOKmVeL"
      }
    },
    {
      "cell_type": "markdown",
      "source": [
        "class(Nombre)\n",
        "self : autoasigna una variable\n",
        "self 1\n",
        "self 2\n",
        "dentro de las clases se pueden crear definiciciones"
      ],
      "metadata": {
        "id": "XlAh5rqUmf1k"
      }
    },
    {
      "cell_type": "code",
      "source": [
        "# hicimos una clase creada mascota, además se hicieron definiciones de los sonidos que hace cada animal, para que cuando el usuario las use, regrese los valores de los sonidoos\n",
        "class Mascota:\n",
        "  def hable(self):\n",
        "    return NotImplementedError\n",
        "\n",
        "#va a omitir los posibles errores que haya\n",
        "\n",
        "class Perro(Mascota):\n",
        "  def hable(self):\n",
        "    return \"Woof\"\n",
        "\n",
        "class Gato(Mascota):\n",
        "  def hable(self):\n",
        "     return \"Miau\"\n"
      ],
      "metadata": {
        "id": "z7wijv6OmqCZ"
      },
      "execution_count": null,
      "outputs": []
    },
    {
      "cell_type": "code",
      "source": [
        "#vamos acrear una lista de mascotas\n",
        "mascotas = [Perro(), Gato()] #generador de objetos dentro de la clase\n"
      ],
      "metadata": {
        "id": "za_NuAKBn_hI"
      },
      "execution_count": null,
      "outputs": []
    },
    {
      "cell_type": "code",
      "source": [
        "mascotas"
      ],
      "metadata": {
        "colab": {
          "base_uri": "https://localhost:8080/"
        },
        "id": "i-ixgE68oOP9",
        "outputId": "a038402c-187a-485a-9278-cfcaaed40bb5"
      },
      "execution_count": null,
      "outputs": [
        {
          "output_type": "execute_result",
          "data": {
            "text/plain": [
              "[<__main__.Perro at 0x7bda70697cd0>, <__main__.Gato at 0x7bda706944c0>]"
            ]
          },
          "metadata": {},
          "execution_count": 36
        }
      ]
    },
    {
      "cell_type": "code",
      "source": [
        "for mascota in mascotas:\n",
        "  print(mascota.hable())"
      ],
      "metadata": {
        "colab": {
          "base_uri": "https://localhost:8080/"
        },
        "id": "qrltA8IHobJg",
        "outputId": "88cfa3af-7cf7-49bd-8f1e-273b38bdbcbc"
      },
      "execution_count": null,
      "outputs": [
        {
          "output_type": "stream",
          "name": "stdout",
          "text": [
            "Woof\n",
            "Miau\n"
          ]
        }
      ]
    },
    {
      "cell_type": "code",
      "source": [
        "# hicimos una clase creada mascota, además se hicieron definiciones de los sonidos que hace cada animal, para que cuando el usuario las use, regrese los valores de los sonidoos\n",
        "class Mascota:\n",
        "  def hable(self):\n",
        "    return NotImplementedError\n",
        "\n",
        "#va a omitir los posibles errores que haya\n",
        "\n",
        "class Perro(Mascota):\n",
        "  def hable(self):\n",
        "    return \"Woof\"\n",
        "\n",
        "class Gato(Mascota):\n",
        "  def hable(self):\n",
        "     return \"Miau\"\n",
        "\n",
        "\n",
        "class Piolin (Mascota):\n",
        "  def hable(self):\n",
        "     return \"tweet\"\n",
        "\n",
        "\n",
        "\n",
        "\n"
      ],
      "metadata": {
        "id": "vIzxMRn8pMUj"
      },
      "execution_count": null,
      "outputs": []
    },
    {
      "cell_type": "code",
      "source": [
        "#Creamos una clase llamada persona para que cuando el usuario haga el input del nombre y la edad, usando las funciones creadas pueda obtener esos valores\n",
        "class Persona:\n",
        "  def __init__(self, nombre, edad):\n",
        "    self.nombre = nombre\n",
        "    self.edad = edad\n"
      ],
      "metadata": {
        "id": "n3OaRnhjq_1z"
      },
      "execution_count": null,
      "outputs": []
    },
    {
      "cell_type": "code",
      "source": [
        "persona_1 = Persona(\"Daniela\" , 21)"
      ],
      "metadata": {
        "id": "5jHLBakYrXnN"
      },
      "execution_count": null,
      "outputs": []
    },
    {
      "cell_type": "code",
      "source": [
        "persona_1.nombre"
      ],
      "metadata": {
        "colab": {
          "base_uri": "https://localhost:8080/",
          "height": 35
        },
        "id": "IIxti-Z2rhBR",
        "outputId": "94177695-4b62-45c2-da65-488415485102"
      },
      "execution_count": null,
      "outputs": [
        {
          "output_type": "execute_result",
          "data": {
            "text/plain": [
              "'Daniela'"
            ],
            "application/vnd.google.colaboratory.intrinsic+json": {
              "type": "string"
            }
          },
          "metadata": {},
          "execution_count": 46
        }
      ]
    },
    {
      "cell_type": "code",
      "source": [
        "persona_1.edad"
      ],
      "metadata": {
        "colab": {
          "base_uri": "https://localhost:8080/"
        },
        "id": "M9kNYA8mrsn9",
        "outputId": "221dcfef-807c-442b-9c80-63aead06c0f8"
      },
      "execution_count": null,
      "outputs": [
        {
          "output_type": "execute_result",
          "data": {
            "text/plain": [
              "21"
            ]
          },
          "metadata": {},
          "execution_count": 47
        }
      ]
    },
    {
      "cell_type": "code",
      "source": [],
      "metadata": {
        "id": "-9GEtE_Rr9Wm"
      },
      "execution_count": null,
      "outputs": []
    }
  ]
}