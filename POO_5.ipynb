{
  "nbformat": 4,
  "nbformat_minor": 0,
  "metadata": {
    "colab": {
      "provenance": []
    },
    "kernelspec": {
      "name": "python3",
      "display_name": "Python 3"
    },
    "language_info": {
      "name": "python"
    }
  },
  "cells": [
    {
      "cell_type": "markdown",
      "source": [
        "# Clases, herencias y polimorfismos"
      ],
      "metadata": {
        "id": "GJY7hgrJkcSD"
      }
    },
    {
      "cell_type": "markdown",
      "source": [
        "### Definiciones"
      ],
      "metadata": {
        "id": "iRHxC4oonbh2"
      }
    },
    {
      "cell_type": "code",
      "execution_count": null,
      "metadata": {
        "id": "hQ5yAOgij5Xr"
      },
      "outputs": [],
      "source": [
        "# Vamos a crear una definición en python (que es una función integrada en Python)\n",
        "\n",
        "def sumayproducto(a, b, c):\n",
        "  x = a + b * c\n",
        "  return x"
      ]
    },
    {
      "cell_type": "code",
      "source": [
        "sumayproducto(1, 2, 3)"
      ],
      "metadata": {
        "colab": {
          "base_uri": "https://localhost:8080/"
        },
        "id": "eLpG0xnJpFw3",
        "outputId": "b5dd61fe-e7b1-4426-a09b-bfc4e0655fce"
      },
      "execution_count": null,
      "outputs": [
        {
          "output_type": "execute_result",
          "data": {
            "text/plain": [
              "7"
            ]
          },
          "metadata": {},
          "execution_count": 2
        }
      ]
    },
    {
      "cell_type": "code",
      "source": [
        "# Vamos a crear una definición que calcule la inversa de una matriz"
      ],
      "metadata": {
        "id": "itjQkhEupO_D"
      },
      "execution_count": null,
      "outputs": []
    },
    {
      "cell_type": "code",
      "source": [
        "#\n",
        "def inversamatriz(matriz):\n",
        "  import numpy as np\n",
        "  lista2 = np.linalg.inv(matriz)\n",
        "  return lista2"
      ],
      "metadata": {
        "id": "W_PBPWljphDw"
      },
      "execution_count": null,
      "outputs": []
    },
    {
      "cell_type": "code",
      "source": [
        "import numpy as np\n",
        "lista1 = np.random.randint(1, 20, size = (3,3)) #importamos numpy y creamos una lista de números aleatorios"
      ],
      "metadata": {
        "id": "7Hi2NJzlqceO"
      },
      "execution_count": null,
      "outputs": []
    },
    {
      "cell_type": "code",
      "source": [
        "inversamatriz(lista1) #calculamos la invesa con la definición crreada"
      ],
      "metadata": {
        "colab": {
          "base_uri": "https://localhost:8080/"
        },
        "id": "TddoXNAqqhvm",
        "outputId": "1d7df7fe-4468-46ec-db91-b228290ae846"
      },
      "execution_count": null,
      "outputs": [
        {
          "output_type": "execute_result",
          "data": {
            "text/plain": [
              "array([[-0.0321489 ,  0.02876481,  0.02876481],\n",
              "       [ 0.05038541,  0.05433352, -0.05677759],\n",
              "       [ 0.01222034, -0.05771762,  0.0533935 ]])"
            ]
          },
          "metadata": {},
          "execution_count": 34
        }
      ]
    },
    {
      "cell_type": "code",
      "source": [
        "lista1"
      ],
      "metadata": {
        "colab": {
          "base_uri": "https://localhost:8080/"
        },
        "id": "JWszQKJ_qnZ2",
        "outputId": "f331a1f3-5c6d-4dbc-8ff9-01b810a3a00c"
      },
      "execution_count": null,
      "outputs": [
        {
          "output_type": "execute_result",
          "data": {
            "text/plain": [
              "array([[ 2, 17, 17],\n",
              "       [18, 11,  2],\n",
              "       [19,  8, 17]])"
            ]
          },
          "metadata": {},
          "execution_count": 35
        }
      ]
    },
    {
      "cell_type": "code",
      "source": [
        "# Para que no cambien los números al generarlos otra vez\n",
        "np.random.seed(12)"
      ],
      "metadata": {
        "id": "J5WAYVZMthA7"
      },
      "execution_count": null,
      "outputs": []
    },
    {
      "cell_type": "code",
      "source": [],
      "metadata": {
        "id": "NIrhlZ3jyiiH"
      },
      "execution_count": null,
      "outputs": []
    }
  ]
}